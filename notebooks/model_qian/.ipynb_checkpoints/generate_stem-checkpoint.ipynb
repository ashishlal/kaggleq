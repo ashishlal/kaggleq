{
 "cells": [
  {
   "cell_type": "code",
   "execution_count": 2,
   "metadata": {},
   "outputs": [],
   "source": [
    "import pandas as pd\n",
    "import numpy as np\n",
    "from sklearn.feature_extraction import text\n",
    "from nltk.stem.porter import PorterStemmer\n",
    "from nltk.stem.snowball import SnowballStemmer\n",
    "\n",
    "seed = 1024\n",
    "np.random.seed(seed)"
   ]
  },
  {
   "cell_type": "code",
   "execution_count": 3,
   "metadata": {
    "collapsed": true
   },
   "outputs": [],
   "source": [
    "def stem_str(x,stemmer=SnowballStemmer('english')):\n",
    "    x = text.re.sub(\"[^a-zA-Z0-9]\",\" \", x)\n",
    "    x = (\" \").join([stemmer.stem(z) for z in x.split(\" \")])\n",
    "    x = \" \".join(x.split())\n",
    "    return x"
   ]
  },
  {
   "cell_type": "code",
   "execution_count": 5,
   "metadata": {},
   "outputs": [],
   "source": [
    "data = '../../data/'\n",
    "cache = '../../cache/'\n",
    "\n",
    "train = pd.read_csv(data+\"train.csv\")\n",
    "test = pd.read_csv(data+\"test.csv\")"
   ]
  },
  {
   "cell_type": "code",
   "execution_count": 6,
   "metadata": {
    "collapsed": true
   },
   "outputs": [],
   "source": [
    "\n",
    "porter = PorterStemmer()\n",
    "snowball = SnowballStemmer('english')\n"
   ]
  },
  {
   "cell_type": "code",
   "execution_count": 7,
   "metadata": {},
   "outputs": [
    {
     "name": "stdout",
     "output_type": "stream",
     "text": [
      "Generate porter\n"
     ]
    }
   ],
   "source": [
    "print('Generate porter')\n",
    "train['question1_porter'] = train['question1'].astype(str).apply(lambda x:stem_str(x.lower(),porter))\n",
    "test['question1_porter'] = test['question1'].astype(str).apply(lambda x:stem_str(x.lower(),porter))"
   ]
  },
  {
   "cell_type": "code",
   "execution_count": 8,
   "metadata": {
    "collapsed": true
   },
   "outputs": [],
   "source": [
    "train['question2_porter'] = train['question2'].astype(str).apply(lambda x:stem_str(x.lower(),porter))\n",
    "test['question2_porter'] = test['question2'].astype(str).apply(lambda x:stem_str(x.lower(),porter))"
   ]
  },
  {
   "cell_type": "code",
   "execution_count": 9,
   "metadata": {},
   "outputs": [
    {
     "name": "stdout",
     "output_type": "stream",
     "text": [
      "Generate snowball\n"
     ]
    }
   ],
   "source": [
    "print('Generate snowball')\n",
    "train['question1_sb'] = train['question1'].astype(str).apply(lambda x:stem_str(x.lower(),snowball))\n",
    "test['question1_sb'] = test['question1'].astype(str).apply(lambda x:stem_str(x.lower(),snowball))"
   ]
  },
  {
   "cell_type": "code",
   "execution_count": 10,
   "metadata": {
    "collapsed": true
   },
   "outputs": [],
   "source": [
    "train['question2_sb'] = train['question2'].astype(str).apply(lambda x:stem_str(x.lower(),snowball))\n",
    "test['question2_sb'] = test['question2'].astype(str).apply(lambda x:stem_str(x.lower(),snowball))"
   ]
  },
  {
   "cell_type": "code",
   "execution_count": 11,
   "metadata": {
    "collapsed": true
   },
   "outputs": [],
   "source": [
    "train.to_csv(cache+'train_porter_sb.csv')\n",
    "test.to_csv(cache+'test_porter_sb.csv')"
   ]
  },
  {
   "cell_type": "code",
   "execution_count": 12,
   "metadata": {},
   "outputs": [
    {
     "data": {
      "text/html": [
       "<div>\n",
       "<style scoped>\n",
       "    .dataframe tbody tr th:only-of-type {\n",
       "        vertical-align: middle;\n",
       "    }\n",
       "\n",
       "    .dataframe tbody tr th {\n",
       "        vertical-align: top;\n",
       "    }\n",
       "\n",
       "    .dataframe thead th {\n",
       "        text-align: right;\n",
       "    }\n",
       "</style>\n",
       "<table border=\"1\" class=\"dataframe\">\n",
       "  <thead>\n",
       "    <tr style=\"text-align: right;\">\n",
       "      <th></th>\n",
       "      <th>id</th>\n",
       "      <th>qid1</th>\n",
       "      <th>qid2</th>\n",
       "      <th>question1</th>\n",
       "      <th>question2</th>\n",
       "      <th>is_duplicate</th>\n",
       "      <th>question1_porter</th>\n",
       "      <th>question2_porter</th>\n",
       "      <th>question1_sb</th>\n",
       "      <th>question2_sb</th>\n",
       "    </tr>\n",
       "  </thead>\n",
       "  <tbody>\n",
       "    <tr>\n",
       "      <th>0</th>\n",
       "      <td>0</td>\n",
       "      <td>1</td>\n",
       "      <td>2</td>\n",
       "      <td>What is the step by step guide to invest in sh...</td>\n",
       "      <td>What is the step by step guide to invest in sh...</td>\n",
       "      <td>0</td>\n",
       "      <td>what is the step by step guid to invest in sha...</td>\n",
       "      <td>what is the step by step guid to invest in sha...</td>\n",
       "      <td>what is the step by step guid to invest in sha...</td>\n",
       "      <td>what is the step by step guid to invest in sha...</td>\n",
       "    </tr>\n",
       "    <tr>\n",
       "      <th>1</th>\n",
       "      <td>1</td>\n",
       "      <td>3</td>\n",
       "      <td>4</td>\n",
       "      <td>What is the story of Kohinoor (Koh-i-Noor) Dia...</td>\n",
       "      <td>What would happen if the Indian government sto...</td>\n",
       "      <td>0</td>\n",
       "      <td>what is the stori of kohinoor koh i noor diamond</td>\n",
       "      <td>what would happen if the indian govern stole t...</td>\n",
       "      <td>what is the stori of kohinoor koh i noor diamond</td>\n",
       "      <td>what would happen if the indian govern stole t...</td>\n",
       "    </tr>\n",
       "    <tr>\n",
       "      <th>2</th>\n",
       "      <td>2</td>\n",
       "      <td>5</td>\n",
       "      <td>6</td>\n",
       "      <td>How can I increase the speed of my internet co...</td>\n",
       "      <td>How can Internet speed be increased by hacking...</td>\n",
       "      <td>0</td>\n",
       "      <td>how can i increas the speed of my internet con...</td>\n",
       "      <td>how can internet speed be increas by hack thro...</td>\n",
       "      <td>how can i increas the speed of my internet con...</td>\n",
       "      <td>how can internet speed be increas by hack thro...</td>\n",
       "    </tr>\n",
       "    <tr>\n",
       "      <th>3</th>\n",
       "      <td>3</td>\n",
       "      <td>7</td>\n",
       "      <td>8</td>\n",
       "      <td>Why am I mentally very lonely? How can I solve...</td>\n",
       "      <td>Find the remainder when [math]23^{24}[/math] i...</td>\n",
       "      <td>0</td>\n",
       "      <td>whi am i mental veri lone how can i solv it</td>\n",
       "      <td>find the remaind when math 23 24 math is divid...</td>\n",
       "      <td>whi am i mental veri lone how can i solv it</td>\n",
       "      <td>find the remaind when math 23 24 math is divid...</td>\n",
       "    </tr>\n",
       "    <tr>\n",
       "      <th>4</th>\n",
       "      <td>4</td>\n",
       "      <td>9</td>\n",
       "      <td>10</td>\n",
       "      <td>Which one dissolve in water quikly sugar, salt...</td>\n",
       "      <td>Which fish would survive in salt water?</td>\n",
       "      <td>0</td>\n",
       "      <td>which one dissolv in water quikli sugar salt m...</td>\n",
       "      <td>which fish would surviv in salt water</td>\n",
       "      <td>which one dissolv in water quik sugar salt met...</td>\n",
       "      <td>which fish would surviv in salt water</td>\n",
       "    </tr>\n",
       "  </tbody>\n",
       "</table>\n",
       "</div>"
      ],
      "text/plain": [
       "   id  qid1  qid2                                          question1  \\\n",
       "0   0     1     2  What is the step by step guide to invest in sh...   \n",
       "1   1     3     4  What is the story of Kohinoor (Koh-i-Noor) Dia...   \n",
       "2   2     5     6  How can I increase the speed of my internet co...   \n",
       "3   3     7     8  Why am I mentally very lonely? How can I solve...   \n",
       "4   4     9    10  Which one dissolve in water quikly sugar, salt...   \n",
       "\n",
       "                                           question2  is_duplicate  \\\n",
       "0  What is the step by step guide to invest in sh...             0   \n",
       "1  What would happen if the Indian government sto...             0   \n",
       "2  How can Internet speed be increased by hacking...             0   \n",
       "3  Find the remainder when [math]23^{24}[/math] i...             0   \n",
       "4            Which fish would survive in salt water?             0   \n",
       "\n",
       "                                    question1_porter  \\\n",
       "0  what is the step by step guid to invest in sha...   \n",
       "1   what is the stori of kohinoor koh i noor diamond   \n",
       "2  how can i increas the speed of my internet con...   \n",
       "3        whi am i mental veri lone how can i solv it   \n",
       "4  which one dissolv in water quikli sugar salt m...   \n",
       "\n",
       "                                    question2_porter  \\\n",
       "0  what is the step by step guid to invest in sha...   \n",
       "1  what would happen if the indian govern stole t...   \n",
       "2  how can internet speed be increas by hack thro...   \n",
       "3  find the remaind when math 23 24 math is divid...   \n",
       "4              which fish would surviv in salt water   \n",
       "\n",
       "                                        question1_sb  \\\n",
       "0  what is the step by step guid to invest in sha...   \n",
       "1   what is the stori of kohinoor koh i noor diamond   \n",
       "2  how can i increas the speed of my internet con...   \n",
       "3        whi am i mental veri lone how can i solv it   \n",
       "4  which one dissolv in water quik sugar salt met...   \n",
       "\n",
       "                                        question2_sb  \n",
       "0  what is the step by step guid to invest in sha...  \n",
       "1  what would happen if the indian govern stole t...  \n",
       "2  how can internet speed be increas by hack thro...  \n",
       "3  find the remaind when math 23 24 math is divid...  \n",
       "4              which fish would surviv in salt water  "
      ]
     },
     "execution_count": 12,
     "metadata": {},
     "output_type": "execute_result"
    }
   ],
   "source": [
    "train.head()"
   ]
  },
  {
   "cell_type": "code",
   "execution_count": 13,
   "metadata": {},
   "outputs": [
    {
     "data": {
      "text/plain": [
       "(404290, 10)"
      ]
     },
     "execution_count": 13,
     "metadata": {},
     "output_type": "execute_result"
    }
   ],
   "source": [
    "train.shape"
   ]
  },
  {
   "cell_type": "code",
   "execution_count": 14,
   "metadata": {},
   "outputs": [
    {
     "data": {
      "text/plain": [
       "(2345796, 7)"
      ]
     },
     "execution_count": 14,
     "metadata": {},
     "output_type": "execute_result"
    }
   ],
   "source": [
    "test.shape"
   ]
  },
  {
   "cell_type": "code",
   "execution_count": null,
   "metadata": {
    "collapsed": true
   },
   "outputs": [],
   "source": []
  }
 ],
 "metadata": {
  "kernelspec": {
   "display_name": "kq",
   "language": "python",
   "name": "kq"
  },
  "language_info": {
   "codemirror_mode": {
    "name": "ipython",
    "version": 3
   },
   "file_extension": ".py",
   "mimetype": "text/x-python",
   "name": "python",
   "nbconvert_exporter": "python",
   "pygments_lexer": "ipython3",
   "version": "3.5.4"
  }
 },
 "nbformat": 4,
 "nbformat_minor": 2
}
